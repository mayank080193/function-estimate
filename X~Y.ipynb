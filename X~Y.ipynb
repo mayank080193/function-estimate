{
 "cells": [
  {
   "cell_type": "markdown",
   "metadata": {},
   "source": [
    "# Example program to estimate a funtion from n dimension euclid space to m dim space using 1 layer of tanh neuron system"
   ]
  },
  {
   "cell_type": "code",
   "execution_count": 1,
   "metadata": {},
   "outputs": [],
   "source": [
    "import numpy as np\n",
    "import tensorflow as tf\n",
    "import os"
   ]
  },
  {
   "cell_type": "markdown",
   "metadata": {},
   "source": [
    "data (fake x,y) :replace with actual data"
   ]
  },
  {
   "cell_type": "code",
   "execution_count": 2,
   "metadata": {},
   "outputs": [],
   "source": [
    "ux=[2,4,5]\n",
    "covx=[[1,0.3,0],[0.3,1,0.5],[0,0.5,2]]\n",
    "n=20\n",
    "A=np.transpose([[1,-1,3],[2,-1,1]])\n",
    "b=np.array([3,2])\n",
    "\n",
    "#3 dim input X\n",
    "X_train=np.random.multivariate_normal(ux,covx,n)\n",
    "#2d output Y\n",
    "Y_train=np.matmul(X_train,A)+b\n",
    "Y_train=np.array([y*100/np.sum(y) for y in Y_train])\n",
    "\n",
    "#test data\n",
    "#3 dim input X\n",
    "X_test=np.random.multivariate_normal(ux,covx,n)\n",
    "#2d output Y\n",
    "Y_test=np.matmul(X_test,A)+b\n",
    "Y_test=np.array([y*100/np.sum(y) for y in Y_train])\n",
    "\n",
    "\n",
    "dimX=X_train[0].shape[0]\n",
    "dimY=Y_train[0].shape[0]"
   ]
  },
  {
   "cell_type": "code",
   "execution_count": 3,
   "metadata": {},
   "outputs": [],
   "source": [
    "#print(\"3d Xs \\n\",X_train)\n",
    "#print(\"2d Ys\\n\",Y_train)"
   ]
  },
  {
   "cell_type": "markdown",
   "metadata": {},
   "source": [
    "# neural network using tanh neurons"
   ]
  },
  {
   "cell_type": "markdown",
   "metadata": {},
   "source": [
    "1st: fully connected layer neural net"
   ]
  },
  {
   "cell_type": "code",
   "execution_count": 4,
   "metadata": {},
   "outputs": [],
   "source": [
    "#parameters: regularizer, number of neurons\n",
    "reg_factor=0.01\n",
    "batch_size=n\n",
    "neuron=dimX*200\n",
    "num_itr=5000\n",
    "decscent_factor=0.001"
   ]
  },
  {
   "cell_type": "code",
   "execution_count": 5,
   "metadata": {},
   "outputs": [],
   "source": [
    "tf.reset_default_graph()\n",
    "sess=tf.InteractiveSession()\n",
    "\n",
    "X=tf.placeholder(tf.float32,shape=[None,int(X_train.shape[-1])])\n",
    "Y=tf.placeholder(tf.float32,shape=[None,int(Y_train.shape[-1])])\n",
    "A=tf.Variable(tf.random_normal([int(X.shape[-1]),neuron]))\n",
    "b=tf.Variable(tf.random_normal([neuron]))\n",
    "L1=tf.tanh(tf.matmul(X,A)+b)\n",
    "M=tf.Variable(tf.random_normal([neuron,int(Y.shape[-1])]))\n",
    "l=tf.Variable(tf.random_normal([int(Y.shape[-1])]))\n",
    "Y_estim=tf.matmul(L1,M)+l\n",
    "\n",
    "#add regulerizer if data overfits and gives bad test results\n",
    "Loss=tf.reduce_mean(tf.square(Y_estim-Y)) #+reg_factor*(tf.norm(M)+tf.norm(l))\n",
    "optimizer=tf.train.GradientDescentOptimizer(decscent_factor)\n",
    "train=optimizer.minimize(Loss)\n",
    "saver = tf.train.Saver()"
   ]
  },
  {
   "cell_type": "markdown",
   "metadata": {},
   "source": [
    "training:"
   ]
  },
  {
   "cell_type": "code",
   "execution_count": 6,
   "metadata": {},
   "outputs": [
    {
     "name": "stdout",
     "output_type": "stream",
     "text": [
      "final_test_mean_sqr_error 0.001137124,   "
     ]
    }
   ],
   "source": [
    "sess.run(tf.global_variables_initializer())\n",
    "for iter in range(num_itr):\n",
    "    sess.run(train,feed_dict={X:X_train,Y:Y_train})\n",
    "    if iter==num_itr-1:\n",
    "        print(\"final_test_mean_sqr_error\",sess.run(Loss,feed_dict={X:X_train,Y:Y_train}),end=\",   \")\n",
    "save_path = saver.save(sess, os.getcwd()+\"/tmp/model.ckpt\")\n",
    "print(\"\\n Model saved in path: %s\" % save_path)\n",
    "print(\"\\n optimization finished \\n \\n model variables saved\")\n"
   ]
  },
  {
   "cell_type": "markdown",
   "metadata": {},
   "source": [
    "check individual difference with training values, test value"
   ]
  },
  {
   "cell_type": "code",
   "execution_count": 7,
   "metadata": {},
   "outputs": [],
   "source": [
    "estims=Y_estim.eval(feed_dict={X:X_train})\n",
    "diff_train=Y_train-estims\n",
    "\n",
    "estims=Y_estim.eval(feed_dict={X:X_test})\n",
    "diff_test=Y_test-estims"
   ]
  },
  {
   "cell_type": "code",
   "execution_count": 8,
   "metadata": {},
   "outputs": [
    {
     "data": {
      "text/plain": [
       "array([[ 3.48491677e-04,  4.82368383e-05],\n",
       "       [-9.79037445e-04,  4.44366145e-05],\n",
       "       [ 3.43643728e-03, -1.84407859e-04],\n",
       "       [ 4.08658747e-03, -4.94489435e-03],\n",
       "       [-6.57067134e-02,  6.19377925e-02],\n",
       "       [ 4.16305544e-02,  6.12747191e-02],\n",
       "       [ 4.58882594e-02,  2.40885473e-02],\n",
       "       [-4.01984158e-02, -7.90986118e-02],\n",
       "       [-8.58879162e-03,  4.09507824e-03],\n",
       "       [-4.90739835e-03, -2.10420798e-02],\n",
       "       [ 3.44817095e-03, -2.03864031e-03],\n",
       "       [-4.83983960e-03,  4.79406323e-03],\n",
       "       [ 4.36813509e-03,  1.35704788e-02],\n",
       "       [ 1.06742890e-03,  1.33692929e-02],\n",
       "       [ 1.11302724e-01, -2.43142749e-02],\n",
       "       [-1.10120849e-03, -8.82463379e-03],\n",
       "       [-7.01781611e-04,  7.36113887e-04],\n",
       "       [ 1.73157823e-04,  3.93527113e-03],\n",
       "       [-6.11610736e-02, -5.13457928e-02],\n",
       "       [-2.73264688e-02,  5.27751856e-03]])"
      ]
     },
     "execution_count": 8,
     "metadata": {},
     "output_type": "execute_result"
    }
   ],
   "source": [
    "diff_train #difference from training values"
   ]
  },
  {
   "cell_type": "code",
   "execution_count": 9,
   "metadata": {},
   "outputs": [
    {
     "data": {
      "text/plain": [
       "array([[-12.63749559,  16.08571489],\n",
       "       [  6.42188015,  -4.44330731],\n",
       "       [ 31.06132447, -17.3656572 ],\n",
       "       [ -5.67065706,   4.36962214],\n",
       "       [ -1.33692406,   1.03590439],\n",
       "       [ -1.5503952 ,  -0.45228653],\n",
       "       [  6.8724416 ,  -6.48222478],\n",
       "       [  4.35413066,  -7.33583537],\n",
       "       [ -9.30611229,   9.64658547],\n",
       "       [ -3.16202715,   3.13414171],\n",
       "       [ 16.70449798, -17.19916884],\n",
       "       [  7.91374689,   9.35946173],\n",
       "       [  4.66003067,  -4.08932907],\n",
       "       [ -5.18753883,  -2.77671745],\n",
       "       [  4.43306481,  -5.50963341],\n",
       "       [ 16.93805056, -17.89010363],\n",
       "       [ -6.7842406 ,   6.161188  ],\n",
       "       [ -0.24563068,  -0.54021222],\n",
       "       [  8.84305188,  -9.59953686],\n",
       "       [ 13.97853672, -12.36347782]])"
      ]
     },
     "execution_count": 9,
     "metadata": {},
     "output_type": "execute_result"
    }
   ],
   "source": [
    "diff_test #difference from test value"
   ]
  },
  {
   "cell_type": "code",
   "execution_count": null,
   "metadata": {},
   "outputs": [],
   "source": []
  }
 ],
 "metadata": {
  "kernelspec": {
   "display_name": "Python 3",
   "language": "python",
   "name": "python3"
  },
  "language_info": {
   "codemirror_mode": {
    "name": "ipython",
    "version": 3
   },
   "file_extension": ".py",
   "mimetype": "text/x-python",
   "name": "python",
   "nbconvert_exporter": "python",
   "pygments_lexer": "ipython3",
   "version": "3.6.7"
  }
 },
 "nbformat": 4,
 "nbformat_minor": 2
}
